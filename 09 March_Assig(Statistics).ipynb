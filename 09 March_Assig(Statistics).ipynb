{
 "cells": [
  {
   "cell_type": "markdown",
   "id": "2e1ac255-990b-4451-9465-61a522b449bf",
   "metadata": {},
   "source": [
    "## Q1: What are the Probability Mass Function (PMF) and Probability Density Function (PDF)? Explain with an example."
   ]
  },
  {
   "cell_type": "markdown",
   "id": "3b24e66c-39b4-40fd-bd81-00b40aa2d032",
   "metadata": {},
   "source": [
    "Q2: What is Cumulative Density Function (CDF)? Explain with anAnswer:-\n",
    "Probability Mass Function (PMF) and Probability Density Function (PDF) are two mathematical functions that help in defining the probability distribution of a random variable.\n",
    "The Probability Mass Function (PMF) is used for discrete random variables, where each value in the domain of the random variable has a corresponding probability assigned to it. \n",
    "The PMF gives the probability of each possible outcome of the discrete random variable. The PMF is defined as follows:\n",
    "\n",
    "For a discrete random variable X, the PMF is defined as P(X = x), where x is any value in the domain of X, and P(X = x) is the probability that X takes the value x.\n",
    "For example, consider a fair six-sided die. The random variable X can take values 1, 2, 3, 4, 5, or 6 with equal probability of 1/6. \n",
    "The PMF of X can be represented as:\n",
    "\n",
    "P(X = 1) = 1/6\n",
    "P(X = 2) = 1/6\n",
    "P(X = 3) = 1/6\n",
    "P(X = 4) = 1/6\n",
    "P(X = 5) = 1/6\n",
    "P(X = 6) = 1/6\n",
    "\n",
    "On the other hand, Probability Density Function (PDF) is used for continuous random variables, where there are infinite possible values in the domain of the random variable. \n",
    "The PDF gives the probability density at each point in the domain of the continuous random variable. \n",
    "The probability of any particular value of a continuous random variable is zero because there are infinitely many possible values. \n",
    "The PDF is defined as follows:\n",
    "\n",
    "For a continuous random variable X, the PDF is defined as f(x), where f(x) is the probability density at x. \n",
    "The area under the curve of the PDF represents the total probability of all possible values of the random variable.\n",
    "\n",
    "For example, consider the standard normal distribution with mean 0 and variance 1. \n",
    "The random variable X can take any value between negative infinity and positive infinity. \n",
    "The PDF of X is given by:\n",
    "\n",
    "f(x) = (1/√(2π)) * e^(-x^2/2)\n",
    "\n",
    "In this case, the area under the curve of the PDF between two values a and b represents the probability of the random variable X falling between those two values."
   ]
  },
  {
   "cell_type": "markdown",
   "id": "2a906ab2-db57-465e-923c-3edd648f9d93",
   "metadata": {},
   "source": [
    "## Q2: What is Cumulative Density Function (CDF)? Explain with an example. Why CDF is used?"
   ]
  },
  {
   "cell_type": "markdown",
   "id": "9806c424-f3bf-45e4-82cb-77bb96eb26cc",
   "metadata": {},
   "source": [
    "Answer:-\n",
    "The Cumulative Density Function (CDF) is a mathematical function that gives the probability that a random variable X takes a value less than or equal to a given value x. \n",
    "It provides a complete picture of the distribution of a random variable and is used extensively in probability theory and statistics.\n",
    "\n",
    "Formally, the CDF of a random variable X is defined as follows:\n",
    "    F(x) = P(X ≤ x)\n",
    "    \n",
    "where F(x) is the CDF of X and P(X ≤ x) is the probability that X takes a value less than or equal to x.\n",
    "\n",
    "For example, consider a fair six-sided die. The random variable X represents the outcome of a single roll of the die. \n",
    "The CDF of X is given by:\n",
    "    \n",
    "    F(x) = P(X ≤ x)\n",
    "\n",
    "For x = 1, the CDF is:\n",
    "\n",
    "F(1) = P(X ≤ 1) = 1/6\n",
    "\n",
    "For x = 2, the CDF is:\n",
    "\n",
    "F(2) = P(X ≤ 2) = 2/6\n",
    "\n",
    "For x = 3, the CDF is:\n",
    "\n",
    "F(3) = P(X ≤ 3) = 3/6\n",
    "\n",
    "And so on, up to x = 6, where the CDF is 1, since the probability that X takes a value less than or equal to 6 is 1.\n",
    "\n",
    "The CDF is used in probability theory and statistics for several purposes. \n",
    "One of the primary uses of the CDF is to compute the probabilities associated with a given random variable. \n",
    "It also provides a complete picture of the distribution of a random variable and can be used to compute various statistics such as mean, \n",
    "variance, and standard deviation. Additionally, the CDF can be used to derive other probability functions such as the Probability Density Function (PDF) \n",
    "and the Probability Mass Function (PMF) for continuous and discrete random variables, \n",
    "respectively.\n"
   ]
  },
  {
   "cell_type": "markdown",
   "id": "676539ee-6dc0-4985-a3ca-5a3f8b700076",
   "metadata": {},
   "source": [
    "## Q3: What are some examples of situations where the normal distribution might be used as a model? Explain how the parameters of the normal distribution relate to the shape of the distribution."
   ]
  },
  {
   "cell_type": "markdown",
   "id": "a1466391-fe9b-4c68-adea-0455bbdae83c",
   "metadata": {},
   "source": [
    "Answer:-\n",
    "The normal distribution is a probability distribution that is widely used in statistics and probability theory to model real-world phenomena. \n",
    "Some examples of situations where the normal distribution might be used as a model include:\n",
    "1.Heights and weights of people\n",
    "where f(x) is the probability density function, μ is the mean, σ is the standard deviation, and x is the value of the random variable.\n",
    "\n",
    "\n",
    "2.IQ scores\n",
    "3.Test scores\n",
    "4.Blood pressure measurements\n",
    "5.Measurement errors\n",
    "6.Economic variables such as stock prices and GDP growth rates\n",
    "7.Physical measurements such as reaction times and time to complete a task\n",
    "8.Environmental variables such as temperature and rainfall\n",
    "\n",
    "The normal distribution is characterized by two parameters: the mean (μ) and the standard deviation (σ). \n",
    "The mean of a normal distribution determines the center of the distribution, while the standard deviation determines the spread or variability of the distribution.\n",
    "\n",
    "The normal distribution is characterized by two parameters: the mean (μ) and the standard deviation (σ). \n",
    "The mean of a normal distribution determines the center of the distribution, while the standard deviation determines the spread \n",
    "or variability of the distribution.\n",
    "\n",
    "The relationship between the mean and standard deviation can be seen in the formula for the normal distribution, which is:\n",
    "    f(x) = (1/σ√(2π)) * e^(-(x-μ)^2/(2σ^2))\n",
    "    \n",
    "where f(x) is the probability density function, μ is the mean, σ is the standard deviation, and x is the value of the random variable.\n",
    "\n",
    "In summary, the normal distribution is a versatile and widely used probability distribution that can be used to model a wide range of real-world phenomena. \n",
    "Its shape is determined by the mean and standard deviation, with the mean determining the center of the distribution and the standard deviation determining its spread or variability."
   ]
  },
  {
   "cell_type": "markdown",
   "id": "dcea413f-1d6b-4c9d-ad2c-9c6bc31b9a4a",
   "metadata": {},
   "source": [
    "## Q4: Explain the importance of Normal Distribution. Give a few real-life examples of Normal Distribution. "
   ]
  },
  {
   "cell_type": "markdown",
   "id": "13b80c19-6b87-4d71-8f97-3a43715cf2cd",
   "metadata": {},
   "source": [
    "Answer:-\n",
    "Normal distribution, also known as Gaussian distribution, is one of the most important probability distributions \n",
    "in statistics and probability theory. It is widely used in real-world applications due to its many desirable properties, \n",
    "including the central limit theorem, which states that the sum of a large number of independent random variables with finite mean \n",
    "and variance tends towards a normal distribution.\n",
    "\n",
    "The importance of normal distribution lies in its ability to describe a wide range of real-world phenomena that follow a bell-shaped curve. \n",
    "This includes many natural and human-made phenomena, from the distribution of heights and weights of a population to the spread of test scores \n",
    "in a classroom. Normal distribution is also used extensively in finance, economics, and engineering to model a variety of variables, such as stock prices, \n",
    "economic growth rates, and failure times of mechanical components.\n",
    "\n",
    "Some real-life examples of normal distribution include:\n",
    "\n",
    "1.Heights and weights of people: The distribution of heights and weights in a population tends to follow a normal distribution with a mean and standard deviation.\n",
    "2.IQ scores: IQ scores are standardized and follow a normal distribution with a mean of 100 and a standard deviation of 15.\n",
    "3.Blood pressure measurements: Blood pressure measurements are normally distributed with a mean and standard deviation that depends on age, sex, and other factors.\n",
    "4.Test scores: The distribution of test scores in a classroom tends to follow a normal distribution, with a mean and standard deviation that depend on the difficulty of the test and the ability of the students.\n",
    "5.Stock prices: Stock prices can be modeled as a normal distribution, with the mean and standard deviation representing the expected return and risk, respectively.\n",
    "6.Response times: The response times of people to a given stimulus, such as a visual or auditory cue, tend to follow a normal distribution.\n",
    "\n",
    "In summary, normal distribution is important because it provides a flexible and widely applicable tool for modeling a wide range of real-world phenomena. \n",
    "Its properties, such as the central limit theorem, make it a useful tool for statistical inference and prediction."
   ]
  },
  {
   "cell_type": "markdown",
   "id": "4c811e0b-2e92-47f2-ad1a-d60fa824835c",
   "metadata": {},
   "source": [
    "## Q5: What is Bernaulli Distribution? Give an Example. What is the difference between Bernoulli Distribution and Binomial Distribution?"
   ]
  },
  {
   "cell_type": "markdown",
   "id": "b84fd5cd-cb55-40bf-a734-fb5700193952",
   "metadata": {},
   "source": [
    "Answer:-\n",
    "The Bernoulli distribution is a probability distribution that describes the outcomes of a single binary experiment,\n",
    "which can have one of two possible outcomes, usually referred to as \"success\" and \"failure.\" It is named after Swiss mathematician Jacob Bernoulli, \n",
    "who first studied it in the 17th century.\n",
    "\n",
    "The Bernoulli distribution is characterized by a single parameter, p, which represents the probability of a success. \n",
    "The probability mass function (PMF) of a Bernoulli distribution is given by:\n",
    "    \n",
    "P(X = 1) = p\n",
    "\n",
    "P(X = 0) = 1 - p\n",
    "\n",
    "where X is the random variable that takes the value 1 for success and 0 for failure.\n",
    "\n",
    "An example of a Bernoulli distribution is flipping a coin, where a \"success\" is getting heads and a \"failure\" is getting tails. \n",
    "If we assume that the probability of getting heads is 0.5, then we can model the outcome of a single coin flip as a Bernoulli random variable with p=0.5.\n",
    "\n",
    "The difference between the Bernoulli distribution and the binomial distribution is that the Bernoulli distribution describes the outcome of a single binary experiment,\n",
    "while the binomial distribution describes the outcome of a series of independent and identical binary experiments.\n",
    "\n",
    "The binomial distribution is characterized by two parameters: n, the number of experiments, and p, the probability of success in each experiment. \n",
    "The probability mass function (PMF) of a binomial distribution is given by:\n",
    "    \n",
    "P(X = k) = (n choose k) * p^k * (1-p)^(n-k)\n",
    "\n",
    "where X is the random variable that takes the value k for the number of successes in n experiments.\n",
    "\n",
    "An example of a binomial distribution is the number of heads obtained in a series of n coin flips, \n",
    "where the probability of getting heads in each flip is p. If we assume that we flip the coin n times, \n",
    "and the probability of getting heads is 0.5, then we can model the number of heads obtained as a binomial random variable with n flips and p=0.5.\n",
    "\n",
    "In summary, the Bernoulli distribution describes the outcome of a single binary experiment, \n",
    "while the binomial distribution describes the outcome of a series of independent and identical binary experiments. \n",
    "The Bernoulli distribution has one parameter, while the binomial distribution has two parameters."
   ]
  },
  {
   "cell_type": "markdown",
   "id": "4917f0fd-10da-4140-b8cb-43f25a62c2da",
   "metadata": {},
   "source": [
    "Q6. Consider a dataset with a mean of 50 and a standard deviation of 10. If we assume that the dataset\n",
    "is normally distributed, what is the probability that a randomly selected observation will be greater\n",
    "than 60? Use the appropriate formula and show your calculations."
   ]
  },
  {
   "cell_type": "markdown",
   "id": "fdd7eecc-8708-40b4-bfc0-490d334ee8e2",
   "metadata": {},
   "source": [
    "Answer:-Mean (μ) = 50\n",
    "Standard deviation (σ) = 10\n",
    "\n",
    "We want to find the probability of selecting an observation greater than 60, i.e., P(X > 60).\n",
    "\n",
    "To solve this problem, we first standardize the variable X using the z-score formula:\n",
    "\n",
    "z = (X - μ) / σ\n",
    "\n",
    "where X is the observation we are interested in, μ is the mean of the distribution, and σ is the standard deviation of the distribution.\n",
    "\n",
    "Substituting the values given in the problem, we get:\n",
    "\n",
    "z = (60 - 50) / 10\n",
    "z = 1\n",
    "\n",
    "Now, we need to find the probability corresponding to z = 1, which we can look up in the standard normal distribution table or use a calculator. The probability of selecting an observation greater than 60 is the area under the standard normal distribution curve to the right of z = 1. This probability can be written as:\n",
    "\n",
    "P(X > 60) = P(Z > 1)\n",
    "\n",
    "Using a standard normal distribution table, we can find that the probability of Z being greater than 1 is approximately 0.1587.\n",
    "\n",
    "Therefore, the probability of selecting an observation greater than 60 from the given dataset is 0.1587 or approximately 15.87%."
   ]
  },
  {
   "cell_type": "markdown",
   "id": "b758d5e9-9f68-428f-879e-0725cc9a457b",
   "metadata": {},
   "source": [
    "## Q7: Explain uniform Distribution with an example."
   ]
  },
  {
   "cell_type": "markdown",
   "id": "9cf51a0b-032b-4d20-81fa-9a3c8633cfcb",
   "metadata": {},
   "source": [
    "Answer:-\n",
    "Uniform distribution is a probability distribution where all outcomes have an equal probability of occurring. \n",
    "In other words, a uniform distribution is characterized by a constant probability density function (PDF) over a given range of values. \n",
    "This means that every value in the range has the same likelihood of being selected.\n",
    "\n",
    "An example of a uniform distribution is rolling a fair six-sided die. \n",
    "Each of the six faces has an equal probability of being rolled, which is 1/6 or approximately 0.1667. \n",
    "The probability density function (PDF) of a uniform distribution is given by:\n",
    "    \n",
    "f(x) = 1 / (b - a)\n",
    "\n",
    "where a is the minimum value in the range and b is the maximum value in the range.\n",
    "\n",
    "For example, if we roll a fair six-sided die, the range of values is from 1 to 6, so a=1 and b=6. The probability density function of a uniform distribution for this range would be:\n",
    "\n",
    "f(x) = 1 / (6 - 1) = 1/5 or approximately 0.2\n",
    "\n",
    "This means that each of the six faces of the die has a probability of 0.2 of being rolled, and the probability of rolling any value in the range is the same.\n",
    "\n",
    "Another example of a uniform distribution is selecting a random number between 0 and 1. In this case, the minimum value of the range is 0 and the maximum value of the range is 1. The probability density function of a uniform distribution for this range is:\n",
    "\n",
    "f(x) = 1 / (1 - 0) = 1\n",
    "\n",
    "This means that every value between 0 and 1 has an equal probability of being selected, and the probability of selecting any value in the range is 1."
   ]
  },
  {
   "cell_type": "markdown",
   "id": "07153c63-4984-4923-b83f-c7b866c713e7",
   "metadata": {},
   "source": [
    "## Q8: What is the z score? State the importance of the z score."
   ]
  },
  {
   "cell_type": "markdown",
   "id": "ba778157-a473-4c7d-a080-2428c2dbfdef",
   "metadata": {},
   "source": [
    "Answer:-\n",
    "Z-score, also known as the standard score, is a measure of how many standard deviations an observation or data point is from the mean of a distribution. The z-score is calculated as:\n",
    "\n",
    "z = (X - μ) / σ\n",
    "\n",
    "where X is the observation, μ is the mean of the distribution, and σ is the standard deviation of the distribution.\n",
    "\n",
    "The z-score allows us to compare observations from different normal distributions on a common scale. \n",
    "A positive z-score indicates that the observation is above the mean of the distribution, \n",
    "while a negative z-score indicates that the observation is below the mean. \n",
    "The magnitude of the z-score tells us how far the observation is from the mean in terms of standard deviations.\n",
    "\n",
    "The importance of the z-score lies in its usefulness in statistical inference and hypothesis testing. \n",
    "For example, the z-score is used in the process of standardizing a normal distribution, \n",
    "which makes it possible to compare observations from different normal distributions. \n",
    "The z-score is also used to calculate confidence intervals and to test hypotheses about population means and proportions.\n",
    "\n",
    "Another important application of the z-score is in identifying outliers in a dataset. \n",
    "Observations that have a z-score that is greater than a certain threshold (e.g., 3 or -3) are considered to be outliers, \n",
    "as they are unusually far from the mean of the distribution. Outliers can be important to identify,\n",
    "as they may indicate errors in data collection or measurement, or they may provide valuable insights into rare or unusual events.\n",
    "\n",
    "Overall, the z-score is an important statistical tool that allows us to compare and standardize observations \n",
    "from different normal distributions, and to make inferences and test hypotheses about population parameters."
   ]
  },
  {
   "cell_type": "markdown",
   "id": "7bae5498-e458-4636-9ee5-0634481a10ba",
   "metadata": {},
   "source": [
    "## Q9: What is Central Limit Theorem? State the significance of the Central Limit Theorem."
   ]
  },
  {
   "cell_type": "markdown",
   "id": "d7228778-8880-401a-b714-f9371caab1fc",
   "metadata": {},
   "source": [
    "Answer:-\n",
    "Central Limit Theorem (CLT) is a fundamental concept in statistics that states that the distribution of sample means of any independent \n",
    "and identically distributed random variable approaches a normal distribution as the sample size increases, \n",
    "regardless of the shape of the underlying population distribution.\n",
    "\n",
    "In other words, the Central Limit Theorem says that if we take multiple random samples from a population, \n",
    "the distribution of the means of those samples will be approximately normal, regardless of the original distribution of the population. \n",
    "The mean of the sample means will be equal to the population mean, and the standard deviation of the sample means will be equal to \n",
    "the population standard deviation divided by the square root of the sample size.\n",
    "\n",
    "The significance of the Central Limit Theorem is that it allows us to make inferences about a population based on a sample.\n",
    "For example, if we want to estimate the mean weight of all students in a school, we can take a sample of students \n",
    "and calculate the sample mean. The Central Limit Theorem tells us that if we take enough samples and calculate the mean of each sample, \n",
    "the distribution of those means will be approximately normal, even if the weights of the individual students are not normally distributed.\n",
    "\n",
    "The Central Limit Theorem is also important in hypothesis testing and confidence intervals, \n",
    "as it provides the theoretical basis for many statistical tests and procedures. \n",
    "By assuming that the distribution of sample means is approximately normal, we can calculate probabilities\n",
    "and confidence intervals for various statistical tests and estimations.\n",
    "\n",
    "Overall, the Central Limit Theorem is a fundamental concept in statistics that allows us to make inferences about a population based on a sample, \n",
    "and provides the theoretical foundation for many statistical tests and procedures."
   ]
  },
  {
   "cell_type": "markdown",
   "id": "e4a5f553-0d57-458f-8f37-62614656389f",
   "metadata": {},
   "source": [
    "## Q10: State the assumptions of the Central Limit Theorem."
   ]
  },
  {
   "cell_type": "markdown",
   "id": "4db71237-33f5-41d7-8239-03ce749cf0b2",
   "metadata": {},
   "source": [
    "Answer:-\n",
    "The Central Limit Theorem (CLT) is a fundamental concept in statistics that allows us to make inferences about a population based on a sample.\n",
    "However, there are certain assumptions that must be met in order for the CLT to apply. These assumptions are:\n",
    "    \n",
    "1.Independence: The observations in the sample must be independent of each other. \n",
    "This means that the value of one observation should not be related to the value of any other observation in the sample.\n",
    "\n",
    "2.Sample Size: The sample size should be sufficiently large. While there is no fixed rule for what constitutes a \"large\" sample size, \n",
    "a commonly used guideline is that the sample size should be at least 30.\n",
    "\n",
    "3.Random Sampling: The sample should be selected randomly from the population. \n",
    "This means that every member of the population should have an equal chance of being selected for the sample.\n",
    "\n",
    "4.inite Population: If the population is finite, the sample size should be no more than 10% of the population size.\n",
    "If the population is infinite, this assumption does not apply.\n",
    "\n",
    "5.Distribution: The population distribution should have a finite mean and a finite variance. \n",
    "If the population distribution is highly skewed or has heavy tails, a larger sample size may be required for the CLT to apply.\n",
    "\n",
    "These assumptions are important to keep in mind when applying the CLT in practice, as violating any of these assumptions can lead to inaccurate \n",
    "or misleading results."
   ]
  },
  {
   "cell_type": "code",
   "execution_count": 1,
   "id": "50f4d575-d703-4be1-a4e6-ce0d760004ab",
   "metadata": {},
   "outputs": [
    {
     "data": {
      "text/plain": [
       "'Thanks'"
      ]
     },
     "execution_count": 1,
     "metadata": {},
     "output_type": "execute_result"
    }
   ],
   "source": [
    "\"\"\"Thanks\"\"\""
   ]
  },
  {
   "cell_type": "code",
   "execution_count": null,
   "id": "0b479cb7-fc5a-432c-b359-6a04b210a242",
   "metadata": {},
   "outputs": [],
   "source": []
  }
 ],
 "metadata": {
  "kernelspec": {
   "display_name": "Python 3 (ipykernel)",
   "language": "python",
   "name": "python3"
  },
  "language_info": {
   "codemirror_mode": {
    "name": "ipython",
    "version": 3
   },
   "file_extension": ".py",
   "mimetype": "text/x-python",
   "name": "python",
   "nbconvert_exporter": "python",
   "pygments_lexer": "ipython3",
   "version": "3.10.8"
  }
 },
 "nbformat": 4,
 "nbformat_minor": 5
}
